{
 "cells": [
  {
   "cell_type": "code",
   "execution_count": 14,
   "metadata": {},
   "outputs": [],
   "source": [
    "from ultralytics import YOLO\n",
    "import matplotlib.pyplot as plt\n",
    "import os, io, sys\n",
    "from PIL import Image\n",
    "import numpy as np\n",
    "import cv2\n",
    "import torch\n",
    "import matplotlib.pyplot as plt\n",
    "import json, re\n",
    "\n",
    "model = YOLO(\"./runs/segment/train_blue_rawdata_1504_500_50epoch/weights/best.pt\")\n",
    "ipath = \"./datasets/Blue-Rawdata-1504-500-1/valid/images/\"\n",
    "\n",
    "def calculate_iou(mask1, mask2):\n",
    "    \"\"\"\n",
    "    计算两个二值掩码之间的 IoU。\n",
    "    mask1 和 mask2 都是同样大小的 numpy 数组，\n",
    "    前景像素值通常为 255（或非0），背景为 0。\n",
    "    \"\"\"\n",
    "    # 如果前景值是 255，可以先转换为布尔值\n",
    "    # 也可直接使用 mask1 > 0 的方式来获取前景区域\n",
    "    m1 = (mask1 > 0)\n",
    "    m2 = (mask2 > 0)\n",
    "\n",
    "    intersection = np.logical_and(m1, m2).sum()  # 交集像素数\n",
    "    union = np.logical_or(m1, m2).sum()          # 并集像素数\n",
    "\n",
    "    if union == 0:\n",
    "        # 如果两个掩码都完全没有前景，可能需要根据场景判断返回 1.0 还是 0.0\n",
    "        return 1.0 if intersection == 0 else 0.0\n",
    "\n",
    "    iou = intersection / union\n",
    "    return iou\n",
    "\n",
    "def sort_points_by_angle(points):\n",
    "    \"\"\"\n",
    "    根据点相对于质心的极角进行排序（逆时针）。\n",
    "    适用于 points.shape == (N, 2) 且 N >= 3 的情况。\n",
    "    \"\"\"\n",
    "    # 1. 计算质心\n",
    "    center = np.mean(points, axis=0)  # [cx, cy]\n",
    "\n",
    "    # 2. 计算相对于质心的向量和角度\n",
    "    #   atan2(y, x) 返回(-π, π)，能区分象限，不会出现排序纠纷\n",
    "    angles = np.arctan2(points[:, 1] - center[1], points[:, 0] - center[0])\n",
    "\n",
    "    # 3. 根据角度从小到大排序即可（默认升序）\n",
    "    sorted_indices = np.argsort(angles)\n",
    "\n",
    "    # 4. 返回排序后的点\n",
    "    return points[sorted_indices]"
   ]
  },
  {
   "cell_type": "code",
   "execution_count": 15,
   "metadata": {},
   "outputs": [
    {
     "name": "stdout",
     "output_type": "stream",
     "text": [
      "\n",
      "0: 1504x1504 1 0, 105.7ms\n",
      "Speed: 7.4ms preprocess, 105.7ms inference, 2.0ms postprocess per image at shape (1, 3, 1504, 1504)\n",
      "\n",
      "0: 1504x1504 1 0, 103.5ms\n",
      "Speed: 7.1ms preprocess, 103.5ms inference, 1.0ms postprocess per image at shape (1, 3, 1504, 1504)\n",
      "\n",
      "0: 1504x1504 1 0, 102.7ms\n",
      "Speed: 7.0ms preprocess, 102.7ms inference, 2.0ms postprocess per image at shape (1, 3, 1504, 1504)\n",
      "\n",
      "0: 1504x1504 1 0, 103.0ms\n",
      "Speed: 7.2ms preprocess, 103.0ms inference, 1.0ms postprocess per image at shape (1, 3, 1504, 1504)\n",
      "\n",
      "0: 1504x1504 1 2, 101.8ms\n",
      "Speed: 6.5ms preprocess, 101.8ms inference, 2.0ms postprocess per image at shape (1, 3, 1504, 1504)\n",
      "\n",
      "0: 1504x1504 1 2, 104.0ms\n",
      "Speed: 7.0ms preprocess, 104.0ms inference, 1.0ms postprocess per image at shape (1, 3, 1504, 1504)\n",
      "\n",
      "0: 1504x1504 1 0, 103.7ms\n",
      "Speed: 6.5ms preprocess, 103.7ms inference, 1.0ms postprocess per image at shape (1, 3, 1504, 1504)\n",
      "\n",
      "0: 1504x1504 1 0, 103.4ms\n",
      "Speed: 6.5ms preprocess, 103.4ms inference, 3.0ms postprocess per image at shape (1, 3, 1504, 1504)\n",
      "\n",
      "0: 1504x1504 1 0, 103.8ms\n",
      "Speed: 6.5ms preprocess, 103.8ms inference, 2.0ms postprocess per image at shape (1, 3, 1504, 1504)\n",
      "\n",
      "0: 1504x1504 1 0, 104.0ms\n",
      "Speed: 6.5ms preprocess, 104.0ms inference, 1.0ms postprocess per image at shape (1, 3, 1504, 1504)\n",
      "\n",
      "0: 1504x1504 1 0, 100.4ms\n",
      "Speed: 6.7ms preprocess, 100.4ms inference, 2.0ms postprocess per image at shape (1, 3, 1504, 1504)\n",
      "\n",
      "0: 1504x1504 1 2, 102.9ms\n",
      "Speed: 6.2ms preprocess, 102.9ms inference, 1.0ms postprocess per image at shape (1, 3, 1504, 1504)\n",
      "\n",
      "0: 1504x1504 1 0, 103.9ms\n",
      "Speed: 6.5ms preprocess, 103.9ms inference, 1.0ms postprocess per image at shape (1, 3, 1504, 1504)\n",
      "\n",
      "0: 1504x1504 1 0, 103.3ms\n",
      "Speed: 6.0ms preprocess, 103.3ms inference, 1.0ms postprocess per image at shape (1, 3, 1504, 1504)\n",
      "\n",
      "0: 1504x1504 1 0, 101.5ms\n",
      "Speed: 6.6ms preprocess, 101.5ms inference, 2.0ms postprocess per image at shape (1, 3, 1504, 1504)\n",
      "\n",
      "0: 1504x1504 1 0, 1 2, 102.6ms\n",
      "Speed: 7.0ms preprocess, 102.6ms inference, 1.0ms postprocess per image at shape (1, 3, 1504, 1504)\n",
      "\n",
      "0: 1504x1504 1 0, 104.5ms\n",
      "Speed: 6.0ms preprocess, 104.5ms inference, 1.0ms postprocess per image at shape (1, 3, 1504, 1504)\n",
      "\n",
      "0: 1504x1504 (no detections), 100.3ms\n",
      "Speed: 6.0ms preprocess, 100.3ms inference, 0.0ms postprocess per image at shape (1, 3, 1504, 1504)\n",
      "\n",
      "0: 1504x1504 1 0, 102.1ms\n",
      "Speed: 6.5ms preprocess, 102.1ms inference, 2.0ms postprocess per image at shape (1, 3, 1504, 1504)\n",
      "\n",
      "0: 1504x1504 1 0, 102.2ms\n",
      "Speed: 7.5ms preprocess, 102.2ms inference, 2.0ms postprocess per image at shape (1, 3, 1504, 1504)\n",
      "\n",
      "0: 1504x1504 1 0, 103.0ms\n",
      "Speed: 6.5ms preprocess, 103.0ms inference, 2.0ms postprocess per image at shape (1, 3, 1504, 1504)\n",
      "\n",
      "0: 1504x1504 1 2, 103.9ms\n",
      "Speed: 7.1ms preprocess, 103.9ms inference, 2.1ms postprocess per image at shape (1, 3, 1504, 1504)\n",
      "\n",
      "0: 1504x1504 1 0, 103.4ms\n",
      "Speed: 7.0ms preprocess, 103.4ms inference, 2.1ms postprocess per image at shape (1, 3, 1504, 1504)\n",
      "\n",
      "0: 1504x1504 1 0, 104.2ms\n",
      "Speed: 6.0ms preprocess, 104.2ms inference, 1.0ms postprocess per image at shape (1, 3, 1504, 1504)\n",
      "\n",
      "0: 1504x1504 1 0, 103.8ms\n",
      "Speed: 6.0ms preprocess, 103.8ms inference, 2.0ms postprocess per image at shape (1, 3, 1504, 1504)\n",
      "\n",
      "0: 1504x1504 1 2, 103.9ms\n",
      "Speed: 6.0ms preprocess, 103.9ms inference, 2.1ms postprocess per image at shape (1, 3, 1504, 1504)\n",
      "\n",
      "0: 1504x1504 1 0, 104.7ms\n",
      "Speed: 6.0ms preprocess, 104.7ms inference, 2.0ms postprocess per image at shape (1, 3, 1504, 1504)\n",
      "\n",
      "0: 1504x1504 1 0, 1 2, 104.1ms\n",
      "Speed: 6.0ms preprocess, 104.1ms inference, 2.0ms postprocess per image at shape (1, 3, 1504, 1504)\n",
      "\n",
      "0: 1504x1504 2 0s, 102.0ms\n",
      "Speed: 6.5ms preprocess, 102.0ms inference, 1.0ms postprocess per image at shape (1, 3, 1504, 1504)\n",
      "\n",
      "0: 1504x1504 1 0, 1 2, 101.6ms\n",
      "Speed: 7.0ms preprocess, 101.6ms inference, 1.0ms postprocess per image at shape (1, 3, 1504, 1504)\n",
      "\n",
      "0: 1504x1504 1 0, 101.0ms\n",
      "Speed: 7.0ms preprocess, 101.0ms inference, 1.5ms postprocess per image at shape (1, 3, 1504, 1504)\n",
      "\n",
      "0: 1504x1504 1 0, 102.0ms\n",
      "Speed: 7.2ms preprocess, 102.0ms inference, 1.0ms postprocess per image at shape (1, 3, 1504, 1504)\n",
      "\n",
      "0: 1504x1504 1 0, 1 2, 101.8ms\n",
      "Speed: 7.5ms preprocess, 101.8ms inference, 2.0ms postprocess per image at shape (1, 3, 1504, 1504)\n",
      "\n",
      "0: 1504x1504 1 0, 102.6ms\n",
      "Speed: 6.5ms preprocess, 102.6ms inference, 1.0ms postprocess per image at shape (1, 3, 1504, 1504)\n",
      "\n",
      "0: 1504x1504 1 0, 102.7ms\n",
      "Speed: 7.5ms preprocess, 102.7ms inference, 2.0ms postprocess per image at shape (1, 3, 1504, 1504)\n",
      "\n",
      "0: 1504x1504 1 0, 102.1ms\n",
      "Speed: 7.1ms preprocess, 102.1ms inference, 2.0ms postprocess per image at shape (1, 3, 1504, 1504)\n",
      "\n",
      "0: 1504x1504 1 0, 101.6ms\n",
      "Speed: 7.0ms preprocess, 101.6ms inference, 1.0ms postprocess per image at shape (1, 3, 1504, 1504)\n",
      "\n",
      "0: 1504x1504 1 0, 103.1ms\n",
      "Speed: 6.0ms preprocess, 103.1ms inference, 1.0ms postprocess per image at shape (1, 3, 1504, 1504)\n",
      "\n",
      "0: 1504x1504 1 0, 1 2, 102.5ms\n",
      "Speed: 7.0ms preprocess, 102.5ms inference, 1.0ms postprocess per image at shape (1, 3, 1504, 1504)\n",
      "\n",
      "0: 1504x1504 1 0, 102.3ms\n",
      "Speed: 7.0ms preprocess, 102.3ms inference, 1.3ms postprocess per image at shape (1, 3, 1504, 1504)\n",
      "\n",
      "0: 1504x1504 1 0, 1 2, 101.9ms\n",
      "Speed: 7.0ms preprocess, 101.9ms inference, 2.0ms postprocess per image at shape (1, 3, 1504, 1504)\n",
      "\n",
      "0: 1504x1504 (no detections), 102.6ms\n",
      "Speed: 6.0ms preprocess, 102.6ms inference, 0.5ms postprocess per image at shape (1, 3, 1504, 1504)\n",
      "\n",
      "0: 1504x1504 1 0, 101.5ms\n",
      "Speed: 7.5ms preprocess, 101.5ms inference, 1.0ms postprocess per image at shape (1, 3, 1504, 1504)\n",
      "\n",
      "0: 1504x1504 1 0, 1 2, 102.1ms\n",
      "Speed: 6.5ms preprocess, 102.1ms inference, 1.0ms postprocess per image at shape (1, 3, 1504, 1504)\n",
      "\n",
      "0: 1504x1504 1 0, 101.4ms\n",
      "Speed: 6.3ms preprocess, 101.4ms inference, 1.0ms postprocess per image at shape (1, 3, 1504, 1504)\n",
      "\n",
      "0: 1504x1504 1 0, 101.4ms\n",
      "Speed: 7.4ms preprocess, 101.4ms inference, 2.0ms postprocess per image at shape (1, 3, 1504, 1504)\n",
      "\n",
      "0: 1504x1504 1 0, 104.0ms\n",
      "Speed: 7.1ms preprocess, 104.0ms inference, 1.0ms postprocess per image at shape (1, 3, 1504, 1504)\n",
      "\n",
      "0: 1504x1504 1 0, 106.2ms\n",
      "Speed: 6.0ms preprocess, 106.2ms inference, 1.0ms postprocess per image at shape (1, 3, 1504, 1504)\n",
      "\n",
      "0: 1504x1504 1 2, 102.5ms\n",
      "Speed: 7.5ms preprocess, 102.5ms inference, 1.5ms postprocess per image at shape (1, 3, 1504, 1504)\n",
      "\n",
      "0: 1504x1504 1 0, 103.5ms\n",
      "Speed: 7.5ms preprocess, 103.5ms inference, 2.0ms postprocess per image at shape (1, 3, 1504, 1504)\n",
      "\n",
      "0: 1504x1504 1 0, 100.3ms\n",
      "Speed: 8.1ms preprocess, 100.3ms inference, 2.0ms postprocess per image at shape (1, 3, 1504, 1504)\n",
      "\n",
      "0: 1504x1504 1 0, 103.2ms\n",
      "Speed: 7.0ms preprocess, 103.2ms inference, 1.0ms postprocess per image at shape (1, 3, 1504, 1504)\n",
      "\n",
      "0: 1504x1504 1 0, 101.2ms\n",
      "Speed: 7.3ms preprocess, 101.2ms inference, 1.0ms postprocess per image at shape (1, 3, 1504, 1504)\n",
      "\n",
      "0: 1504x1504 1 0, 100.4ms\n",
      "Speed: 8.0ms preprocess, 100.4ms inference, 2.5ms postprocess per image at shape (1, 3, 1504, 1504)\n",
      "\n",
      "0: 1504x1504 1 0, 101.4ms\n",
      "Speed: 8.1ms preprocess, 101.4ms inference, 2.0ms postprocess per image at shape (1, 3, 1504, 1504)\n",
      "\n",
      "0: 1504x1504 1 0, 1 2, 101.9ms\n",
      "Speed: 8.0ms preprocess, 101.9ms inference, 1.0ms postprocess per image at shape (1, 3, 1504, 1504)\n",
      "\n",
      "0: 1504x1504 1 0, 1 2, 102.3ms\n",
      "Speed: 7.2ms preprocess, 102.3ms inference, 1.0ms postprocess per image at shape (1, 3, 1504, 1504)\n",
      "\n",
      "0: 1504x1504 1 0, 1 2, 101.4ms\n",
      "Speed: 7.5ms preprocess, 101.4ms inference, 1.0ms postprocess per image at shape (1, 3, 1504, 1504)\n",
      "\n",
      "0: 1504x1504 1 0, 102.0ms\n",
      "Speed: 8.5ms preprocess, 102.0ms inference, 1.0ms postprocess per image at shape (1, 3, 1504, 1504)\n",
      "\n",
      "0: 1504x1504 1 2, 103.1ms\n",
      "Speed: 8.0ms preprocess, 103.1ms inference, 1.0ms postprocess per image at shape (1, 3, 1504, 1504)\n",
      "\n",
      "0: 1504x1504 1 0, 104.7ms\n",
      "Speed: 9.5ms preprocess, 104.7ms inference, 1.0ms postprocess per image at shape (1, 3, 1504, 1504)\n",
      "\n",
      "0: 1504x1504 1 0, 101.8ms\n",
      "Speed: 8.4ms preprocess, 101.8ms inference, 1.0ms postprocess per image at shape (1, 3, 1504, 1504)\n",
      "\n",
      "0: 1504x1504 (no detections), 102.1ms\n",
      "Speed: 8.5ms preprocess, 102.1ms inference, 0.0ms postprocess per image at shape (1, 3, 1504, 1504)\n",
      "\n",
      "0: 1504x1504 1 0, 101.2ms\n",
      "Speed: 8.0ms preprocess, 101.2ms inference, 1.0ms postprocess per image at shape (1, 3, 1504, 1504)\n",
      "\n",
      "0: 1504x1504 1 0, 102.4ms\n",
      "Speed: 9.5ms preprocess, 102.4ms inference, 1.0ms postprocess per image at shape (1, 3, 1504, 1504)\n",
      "\n",
      "0: 1504x1504 1 0, 102.0ms\n",
      "Speed: 7.5ms preprocess, 102.0ms inference, 1.0ms postprocess per image at shape (1, 3, 1504, 1504)\n",
      "\n",
      "0: 1504x1504 1 0, 102.1ms\n",
      "Speed: 8.5ms preprocess, 102.1ms inference, 2.0ms postprocess per image at shape (1, 3, 1504, 1504)\n",
      "\n",
      "0: 1504x1504 1 0, 102.2ms\n",
      "Speed: 8.5ms preprocess, 102.2ms inference, 1.0ms postprocess per image at shape (1, 3, 1504, 1504)\n",
      "\n",
      "0: 1504x1504 1 0, 1 2, 102.1ms\n",
      "Speed: 8.5ms preprocess, 102.1ms inference, 3.0ms postprocess per image at shape (1, 3, 1504, 1504)\n",
      "\n",
      "0: 1504x1504 1 0, 1 2, 102.1ms\n",
      "Speed: 8.5ms preprocess, 102.1ms inference, 1.0ms postprocess per image at shape (1, 3, 1504, 1504)\n",
      "\n",
      "0: 1504x1504 1 2, 101.2ms\n",
      "Speed: 8.5ms preprocess, 101.2ms inference, 1.0ms postprocess per image at shape (1, 3, 1504, 1504)\n",
      "\n",
      "0: 1504x1504 1 0, 1 2, 102.0ms\n",
      "Speed: 8.2ms preprocess, 102.0ms inference, 2.0ms postprocess per image at shape (1, 3, 1504, 1504)\n",
      "\n",
      "0: 1504x1504 1 2, 101.8ms\n",
      "Speed: 9.1ms preprocess, 101.8ms inference, 2.0ms postprocess per image at shape (1, 3, 1504, 1504)\n",
      "\n",
      "0: 1504x1504 1 2, 100.9ms\n",
      "Speed: 9.0ms preprocess, 100.9ms inference, 1.0ms postprocess per image at shape (1, 3, 1504, 1504)\n",
      "\n",
      "0: 1504x1504 1 0, 101.7ms\n",
      "Speed: 10.0ms preprocess, 101.7ms inference, 1.0ms postprocess per image at shape (1, 3, 1504, 1504)\n",
      "\n",
      "0: 1504x1504 1 0, 103.0ms\n",
      "Speed: 8.5ms preprocess, 103.0ms inference, 1.0ms postprocess per image at shape (1, 3, 1504, 1504)\n",
      "\n",
      "0: 1504x1504 1 0, 102.0ms\n",
      "Speed: 9.5ms preprocess, 102.0ms inference, 1.0ms postprocess per image at shape (1, 3, 1504, 1504)\n",
      "\n",
      "0: 1504x1504 1 0, 102.2ms\n",
      "Speed: 9.0ms preprocess, 102.2ms inference, 3.0ms postprocess per image at shape (1, 3, 1504, 1504)\n",
      "\n",
      "0: 1504x1504 1 0, 1 2, 101.8ms\n",
      "Speed: 8.3ms preprocess, 101.8ms inference, 1.0ms postprocess per image at shape (1, 3, 1504, 1504)\n",
      "\n",
      "0: 1504x1504 1 0, 102.7ms\n",
      "Speed: 7.5ms preprocess, 102.7ms inference, 1.0ms postprocess per image at shape (1, 3, 1504, 1504)\n",
      "\n",
      "0: 1504x1504 1 0, 102.2ms\n",
      "Speed: 8.5ms preprocess, 102.2ms inference, 1.0ms postprocess per image at shape (1, 3, 1504, 1504)\n",
      "\n",
      "0: 1504x1504 1 0, 1 2, 101.5ms\n",
      "Speed: 8.5ms preprocess, 101.5ms inference, 1.0ms postprocess per image at shape (1, 3, 1504, 1504)\n",
      "\n",
      "0: 1504x1504 1 0, 102.4ms\n",
      "Speed: 8.5ms preprocess, 102.4ms inference, 0.5ms postprocess per image at shape (1, 3, 1504, 1504)\n",
      "\n",
      "0: 1504x1504 1 0, 102.0ms\n",
      "Speed: 7.5ms preprocess, 102.0ms inference, 2.0ms postprocess per image at shape (1, 3, 1504, 1504)\n",
      "\n",
      "0: 1504x1504 1 0, 101.7ms\n",
      "Speed: 8.5ms preprocess, 101.7ms inference, 1.0ms postprocess per image at shape (1, 3, 1504, 1504)\n",
      "\n",
      "0: 1504x1504 1 0, 101.5ms\n",
      "Speed: 7.5ms preprocess, 101.5ms inference, 1.0ms postprocess per image at shape (1, 3, 1504, 1504)\n",
      "\n",
      "0: 1504x1504 1 0, 101.0ms\n",
      "Speed: 8.3ms preprocess, 101.0ms inference, 1.0ms postprocess per image at shape (1, 3, 1504, 1504)\n",
      "\n",
      "0: 1504x1504 1 0, 101.5ms\n",
      "Speed: 7.5ms preprocess, 101.5ms inference, 2.0ms postprocess per image at shape (1, 3, 1504, 1504)\n",
      "\n",
      "0: 1504x1504 1 0, 101.9ms\n",
      "Speed: 8.2ms preprocess, 101.9ms inference, 1.0ms postprocess per image at shape (1, 3, 1504, 1504)\n",
      "\n",
      "0: 1504x1504 1 0, 1 2, 103.0ms\n",
      "Speed: 8.5ms preprocess, 103.0ms inference, 2.0ms postprocess per image at shape (1, 3, 1504, 1504)\n",
      "\n",
      "0: 1504x1504 1 0, 103.0ms\n",
      "Speed: 8.0ms preprocess, 103.0ms inference, 2.0ms postprocess per image at shape (1, 3, 1504, 1504)\n",
      "\n",
      "0: 1504x1504 1 0, 1 2, 104.0ms\n",
      "Speed: 8.5ms preprocess, 104.0ms inference, 1.0ms postprocess per image at shape (1, 3, 1504, 1504)\n",
      "\n",
      "0: 1504x1504 1 0, 103.6ms\n",
      "Speed: 7.5ms preprocess, 103.6ms inference, 1.0ms postprocess per image at shape (1, 3, 1504, 1504)\n",
      "\n",
      "0: 1504x1504 1 0, 102.5ms\n",
      "Speed: 8.5ms preprocess, 102.5ms inference, 1.0ms postprocess per image at shape (1, 3, 1504, 1504)\n",
      "\n",
      "0: 1504x1504 1 0, 1 2, 103.4ms\n",
      "Speed: 8.0ms preprocess, 103.4ms inference, 2.0ms postprocess per image at shape (1, 3, 1504, 1504)\n",
      "\n",
      "0: 1504x1504 2 0s, 101.6ms\n",
      "Speed: 8.0ms preprocess, 101.6ms inference, 1.0ms postprocess per image at shape (1, 3, 1504, 1504)\n",
      "\n",
      "0: 1504x1504 1 2, 102.2ms\n",
      "Speed: 8.5ms preprocess, 102.2ms inference, 2.0ms postprocess per image at shape (1, 3, 1504, 1504)\n",
      "\n",
      "0: 1504x1504 1 0, 1 2, 101.9ms\n",
      "Speed: 8.0ms preprocess, 101.9ms inference, 2.0ms postprocess per image at shape (1, 3, 1504, 1504)\n",
      "\n",
      "0: 1504x1504 2 0s, 1 2, 102.0ms\n",
      "Speed: 8.0ms preprocess, 102.0ms inference, 2.0ms postprocess per image at shape (1, 3, 1504, 1504)\n",
      "\n",
      "0: 1504x1504 1 2, 101.5ms\n",
      "Speed: 8.2ms preprocess, 101.5ms inference, 2.0ms postprocess per image at shape (1, 3, 1504, 1504)\n",
      "Average IOU nan\n",
      "Average pixel difference nan\n",
      "Average pixel difference % nan%\n"
     ]
    },
    {
     "name": "stderr",
     "output_type": "stream",
     "text": [
      "C:\\Users\\ASUS\\AppData\\Roaming\\Python\\Python312\\site-packages\\numpy\\_core\\fromnumeric.py:3904: RuntimeWarning: Mean of empty slice.\n",
      "  return _methods._mean(a, axis=axis, dtype=dtype,\n",
      "C:\\Users\\ASUS\\AppData\\Roaming\\Python\\Python312\\site-packages\\numpy\\_core\\_methods.py:147: RuntimeWarning: invalid value encountered in scalar divide\n",
      "  ret = ret.dtype.type(ret / rcount)\n"
     ]
    }
   ],
   "source": [
    "iou_list = []\n",
    "height_list = []\n",
    "height_diff = []\n",
    "height_diff_percent = []\n",
    "for i, image_name in enumerate(os.listdir(ipath)):\n",
    "    if not image_name.lower().endswith('.jpg'):\n",
    "        continue\n",
    "    # image_name = '2022-03-28_143344_39_T5_2334_bmp_jpg.rf.03672cb0b717b22356ea1aa5976e7b24.jpg'\n",
    "    # truth label points for bloodzone2\n",
    "\n",
    "    json_name  = '../../data/rawdata/class1/' + image_name[:re.search(r'_bmp', image_name).start()] + '.json'\n",
    "    with open(json_name, 'r') as f:\n",
    "        data = json.load(f)\n",
    "\n",
    "    image_path = os.path.join(ipath, image_name)\n",
    "    # image = cv2.imread(image_path)\n",
    "    image = np.array(Image.open(image_path))\n",
    "    annotated_image = image.copy()\n",
    "\n",
    "    ## predicted label\n",
    "    results = model(source = image, imgsz = 1504, \n",
    "                    device=\"cuda:0\",\n",
    "                    visualize = False, show = False, \n",
    "                    save = False, save_txt = False, save_conf = False, save_crop = False,\n",
    "                    show_labels = False, show_conf = False, show_boxes = False, line_width = 2)\n",
    "    \n",
    "    cls_dict = results[0].names\n",
    "    bloodzone2_id = [i for i, id in enumerate(list(results[0].boxes.cls.cpu().numpy())) if id == 1]\n",
    "    if len(bloodzone2_id) > 0:\n",
    "        points_list = []\n",
    "        for i in bloodzone2_id:\n",
    "            result = results[0][i]\n",
    "            # mask = np.zeros(result.orig_shape, dtype=np.uint8)\n",
    "            points = result.masks.xyn[0]\n",
    "            points[:, 0] *= results[0].orig_shape[0]\n",
    "            points[:, 1] *= results[0].orig_shape[1]\n",
    "            points_list.append(points)\n",
    "\n",
    "        points = np.vstack(points_list)\n",
    "        points = points.astype(np.int32)\n",
    "        height = np.mean(np.sort(points[:, 1])[:2])\n",
    "        # points = sort_points_by_angle(points)\n",
    "        # cv2.fillPoly(mask, [points], 255)\n",
    "        mask = result.masks.data.cpu().numpy()[0]\n",
    "        mask = cv2.resize(mask, (1500, 1500), interpolation=cv2.INTER_NEAREST)\n",
    "\n",
    "        print('detected')\n",
    "        cv2.polylines(annotated_image, points.reshape((-1, 1, 2)), isClosed=True, color=(0, 255, 0), thickness=5)\n",
    "        # cv2.putText(annotated_image, str(class_id), (points[0][0], points[0][1] - 10), \n",
    "        # cv2.FONT_HERSHEY_SIMPLEX, 0.5, (255, 0, 0), 1, cv2.LINE_AA)\n",
    "            \n",
    "        ## true label\n",
    "        true_mask = np.zeros(result.orig_shape, dtype=np.uint8)\n",
    "        true_points = []\n",
    "        for id, shape in enumerate(data[\"shapes\"]):\n",
    "            if id >= 2 and id <= 5:\n",
    "                true_point = shape[\"points\"][0]\n",
    "                x, y = int(true_point[0]), int(true_point[1])\n",
    "                # print(x, y)\n",
    "                x, y = int((x - 800) * 1500/1200), int((y - 250) * 1)\n",
    "                # print(x, y)\n",
    "                true_points.append([x, y])\n",
    "                cv2.circle(annotated_image, (x, y), radius=5, color=(255, 0, 0), thickness=-1)  # Red dot\n",
    "\n",
    "        true_points = np.array(true_points, dtype=np.int32)\n",
    "        true_points = sort_points_by_angle(true_points)\n",
    "        true_height = np.mean(np.sort(true_points[:, 1])[:1])\n",
    "        y_values = points[:, 1]\n",
    "\n",
    "        cv2.fillPoly(true_mask, [true_points], 255)\n",
    "\n",
    "        # plt.imshow(annotated_image)\n",
    "        # plt.imsave(f'../../img/{i}.jpg', annotated_image)\n",
    "        # plt.show()\n",
    "        # break\n",
    "        \n",
    "        print(true_height, height, true_height - height, f'{round((true_height - height)/true_height*100, 2)}%')\n",
    "        iou  = calculate_iou(true_mask, mask)\n",
    "        print(iou)\n",
    "\n",
    "        height_list.append(true_height)\n",
    "        height_diff.append(abs(true_height - height))\n",
    "        height_diff_percent.append(abs((true_height - height)/true_height))\n",
    "        iou_list.append(iou)\n",
    "        break\n",
    "\n",
    "print('Average IOU', np.mean(iou_list))\n",
    "print('Average pixel difference', np.mean(height_diff))\n",
    "print('Average pixel difference %', f'{round(np.mean(height_diff_percent)*100, 2)}%')"
   ]
  },
  {
   "cell_type": "code",
   "execution_count": 16,
   "metadata": {},
   "outputs": [
    {
     "data": {
      "text/plain": [
       "[]"
      ]
     },
     "execution_count": 16,
     "metadata": {},
     "output_type": "execute_result"
    }
   ],
   "source": [
    "iou_list"
   ]
  },
  {
   "cell_type": "code",
   "execution_count": null,
   "metadata": {},
   "outputs": [],
   "source": []
  },
  {
   "cell_type": "code",
   "execution_count": null,
   "metadata": {},
   "outputs": [],
   "source": []
  },
  {
   "cell_type": "code",
   "execution_count": 256,
   "metadata": {},
   "outputs": [
    {
     "data": {
      "text/plain": [
       "([np.float64(0.6290556900726392)], [np.float64(0.0)])"
      ]
     },
     "execution_count": 256,
     "metadata": {},
     "output_type": "execute_result"
    }
   ],
   "source": [
    "iou_list, height_diff"
   ]
  },
  {
   "cell_type": "code",
   "execution_count": 209,
   "metadata": {},
   "outputs": [
    {
     "data": {
      "image/png": "[encoded data removed]",
      "text/plain": [
       "<Figure size 640x480 with 1 Axes>"
      ]
     },
     "metadata": {},
     "output_type": "display_data"
    }
   ],
   "source": [
    "means = [np.mean(iou_list), np.mean(height_diff)]\n",
    "stds = [np.std(iou_list), np.std(height_diff)]\n",
    "\n",
    "# 横坐标标签\n",
    "x_labels = ['IoU', 'Height Diff']\n",
    "\n",
    "# 绘制带误差条的条形图\n",
    "x_pos = np.arange(len(means))\n",
    "colors = ['blue', 'blue']  # 两个纵坐标颜色统一\n",
    "\n",
    "plt.bar(x_pos, means, yerr=stds, capsize=5, color=colors, alpha=0.7)\n",
    "\n",
    "# 图形美化\n",
    "plt.xticks(x_pos, x_labels)\n",
    "plt.title('Mean and Standard Deviation for IoU and Height Diff')\n",
    "plt.ylabel('Values')\n",
    "plt.grid(axis='y', linestyle='--', alpha=0.7)\n",
    "\n",
    "# 显示图像\n",
    "plt.show()"
   ]
  },
  {
   "cell_type": "code",
   "execution_count": 242,
   "metadata": {},
   "outputs": [
    {
     "data": {
      "image/png": "[encoded data removed]",
      "text/plain": [
       "<Figure size 500x600 with 2 Axes>"
      ]
     },
     "metadata": {},
     "output_type": "display_data"
    }
   ],
   "source": [
    "fig, ax1 = plt.subplots(figsize=(5, 6))\n",
    "bar_width = 0.4\n",
    "x1, x2 = 0.4, 1.6\n",
    "color='black'\n",
    "ax1.bar(x=x1, height=np.mean(iou_list), yerr=np.std(iou_list), capsize=5, color='C0', alpha=0.9, width=bar_width)\n",
    "ax1.set_ylabel('IoU', color=color)\n",
    "ax1.tick_params(axis='y', labelcolor=color)\n",
    "ax1.set_ylim([0, 1.])\n",
    "\n",
    "ax2 = ax1.twinx()\n",
    "ax2.bar(x=x2, height=np.mean(height_diff), yerr=np.std(height_diff), capsize=5, color='C0', alpha=0.9, width=bar_width)\n",
    "ax2.set_ylabel('Diff (pixel over 1500 pixel)', color=color)\n",
    "ax2.tick_params(axis='y', labelcolor=color)\n",
    "\n",
    "plt.xticks([x1, x2], ['IoU', 'Surface level difference'])\n",
    "plt.title('Evaluation of yolo-seg on position accuracy', fontsize=10, pad=10)\n",
    "\n",
    "ax1.grid(axis='y', linestyle='--', alpha=0.7)\n",
    "plt.tight_layout()\n",
    "plt.show()"
   ]
  },
  {
   "cell_type": "code",
   "execution_count": 249,
   "metadata": {},
   "outputs": [
    {
     "data": {
      "text/plain": [
       "(1500, 1500)"
      ]
     },
     "execution_count": 249,
     "metadata": {},
     "output_type": "execute_result"
    }
   ],
   "source": [
    "np.shape(true_mask)"
   ]
  },
  {
   "cell_type": "code",
   "execution_count": 250,
   "metadata": {},
   "outputs": [
    {
     "data": {
      "text/plain": [
       "array([[0, 0, 0, ..., 0, 0, 0],\n",
       "       [0, 0, 0, ..., 0, 0, 0],\n",
       "       [0, 0, 0, ..., 0, 0, 0],\n",
       "       ...,\n",
       "       [0, 0, 0, ..., 0, 0, 0],\n",
       "       [0, 0, 0, ..., 0, 0, 0],\n",
       "       [0, 0, 0, ..., 0, 0, 0]], dtype=uint8)"
      ]
     },
     "execution_count": 250,
     "metadata": {},
     "output_type": "execute_result"
    }
   ],
   "source": [
    "true_mask"
   ]
  },
  {
   "cell_type": "code",
   "execution_count": 257,
   "metadata": {},
   "outputs": [
    {
     "data": {
      "image/png": "[encoded data removed]",
      "text/plain": [
       "<Figure size 800x800 with 1 Axes>"
      ]
     },
     "metadata": {},
     "output_type": "display_data"
    }
   ],
   "source": [
    "combined_image = np.zeros((1500, 1500, 3), dtype=np.uint8)\n",
    "combined_image[..., 0] = mask * 255  # 红色通道\n",
    "combined_image[..., 1] = true_mask * 255  # 绿色通道\n",
    "\n",
    "plt.figure(figsize=(8, 8))\n",
    "plt.imshow(combined_image)\n",
    "plt.title('Combined Masks: Red for Mask, Green for TrueMask')\n",
    "plt.axis('off')\n",
    "plt.show()"
   ]
  },
  {
   "cell_type": "code",
   "execution_count": 258,
   "metadata": {},
   "outputs": [
    {
     "data": {
      "image/png": "[encoded data removed]",
      "text/plain": [
       "<Figure size 640x480 with 1 Axes>"
      ]
     },
     "metadata": {},
     "output_type": "display_data"
    }
   ],
   "source": [
    "mask = result.masks.data.cpu().numpy()[0]\n",
    "mask = cv2.resize(mask, (1500, 1500), interpolation=cv2.INTER_NEAREST)\n",
    "plt.imshow(mask)\n",
    "plt.axis('off')  # 不显示坐标轴\n",
    "plt.show()"
   ]
  },
  {
   "cell_type": "code",
   "execution_count": 259,
   "metadata": {},
   "outputs": [
    {
     "data": {
      "image/png": "[encoded data removed]",
      "text/plain": [
       "<Figure size 640x480 with 1 Axes>"
      ]
     },
     "metadata": {},
     "output_type": "display_data"
    }
   ],
   "source": [
    "plt.imshow(true_mask)\n",
    "plt.axis('off')  # 不显示坐标轴\n",
    "plt.show()"
   ]
  },
  {
   "cell_type": "code",
   "execution_count": 198,
   "metadata": {},
   "outputs": [
    {
     "data": {
      "image/png": "[encoded data removed]",
      "text/plain": [
       "<Figure size 640x480 with 3 Axes>"
      ]
     },
     "metadata": {},
     "output_type": "display_data"
    }
   ],
   "source": [
    "import matplotlib.pyplot as plt\n",
    "import numpy as np\n",
    "\n",
    "# 数据\n",
    "list1 = [0.6, 0.8, 0.7, 0.65, 0.75]\n",
    "list2 = [3.2, 3.6, 3.4, 3.7, 3.5]\n",
    "list3 = [0.0018, 0.0022, 0.002, 0.0021, 0.002]\n",
    "\n",
    "# 计算均值和标准差\n",
    "means = [np.mean(list1), np.mean(list2), np.mean(list3)]\n",
    "stds = [np.std(list1), np.std(list2), np.std(list3)]\n",
    "\n",
    "x = np.arange(len(means))  # 生成适合的 x 坐标索引 [0, 1, 2]\n",
    "\n",
    "# 替换 None 为 NaN\n",
    "y1 = [means[0], np.nan, np.nan]\n",
    "y2 = [np.nan, means[1], np.nan]\n",
    "y3 = [np.nan, np.nan, means[2]]\n",
    "\n",
    "yerr1 = [stds[0], np.nan, np.nan]\n",
    "yerr2 = [np.nan, stds[1], np.nan]\n",
    "yerr3 = [np.nan, np.nan, stds[2]]\n",
    "\n",
    "# 创建一个主图\n",
    "fig, ax1 = plt.subplots()\n",
    "\n",
    "# 绘制第一个数据集\n",
    "ax1.errorbar(x, y1, yerr=yerr1, fmt='o', capsize=5, color='blue', label='List 1')\n",
    "ax1.set_ylabel('List 1 Scale', color='blue')\n",
    "ax1.tick_params(axis='y', labelcolor='blue')\n",
    "\n",
    "# 添加第二个 y 轴\n",
    "ax2 = ax1.twinx()\n",
    "ax2.errorbar(x, y2, yerr=yerr2, fmt='o', capsize=5, color='orange', label='List 2')\n",
    "ax2.set_ylabel('List 2 Scale', color='orange')\n",
    "ax2.tick_params(axis='y', labelcolor='orange')\n",
    "\n",
    "# 添加第三个 y 轴\n",
    "ax3 = ax1.twinx()\n",
    "ax3.spines['right'].set_position(('outward', 60))  # 移动第三个 y 轴\n",
    "ax3.errorbar(x, y3, yerr=yerr3, fmt='o', capsize=5, color='green', label='List 3')\n",
    "ax3.set_ylabel('List 3 Scale', color='green')\n",
    "ax3.tick_params(axis='y', labelcolor='green')\n",
    "\n",
    "# 设置 x 轴标签\n",
    "plt.xticks(x, ['Group 1', 'Group 2', 'Group 3'])\n",
    "\n",
    "plt.title('Three Scales with Separate Y Axes')\n",
    "plt.show()\n"
   ]
  },
  {
   "cell_type": "code",
   "execution_count": 195,
   "metadata": {},
   "outputs": [
    {
     "data": {
      "image/png": "[encoded data removed]",
      "text/plain": [
       "<Figure size 1000x300 with 3 Axes>"
      ]
     },
     "metadata": {},
     "output_type": "display_data"
    }
   ],
   "source": [
    "fig, axes = plt.subplots(1, 3, figsize=(10, 3), sharex=True)\n",
    "\n",
    "# 绘制每个子图\n",
    "colors = ['blue', 'orange', 'green']\n",
    "lists = [list1, list2, list3]\n",
    "titles = ['List 1', 'List 2', 'List 3']\n",
    "\n",
    "for i, ax in enumerate(axes):\n",
    "    mean = np.mean(lists[i])\n",
    "    std = np.std(lists[i])\n",
    "    ax.errorbar(['Group'], [mean], yerr=[std], fmt='o', capsize=5, color=colors[i])\n",
    "    ax.set_title(titles[i])\n",
    "    ax.set_ylabel('Value')\n",
    "    ax.grid(True)\n",
    "\n",
    "# 设置共享的 x 轴\n",
    "# axes[-1].set_xlabel('Groups')\n",
    "\n",
    "plt.tight_layout()\n",
    "plt.show()\n"
   ]
  },
  {
   "cell_type": "code",
   "execution_count": 60,
   "metadata": {},
   "outputs": [
    {
     "data": {
      "text/plain": [
       "torch.Size([1, 1504, 1504])"
      ]
     },
     "execution_count": 60,
     "metadata": {},
     "output_type": "execute_result"
    }
   ],
   "source": [
    "np.shape(result.masks.data)"
   ]
  },
  {
   "cell_type": "code",
   "execution_count": 110,
   "metadata": {},
   "outputs": [
    {
     "data": {
      "text/plain": [
       "array([[624, 875],\n",
       "       [624, 886],\n",
       "       [628, 886],\n",
       "       [629, 887],\n",
       "       [635, 887],\n",
       "       [636, 886],\n",
       "       [675, 886],\n",
       "       [676, 887],\n",
       "       [688, 887],\n",
       "       [689, 888],\n",
       "       [709, 888],\n",
       "       [710, 889],\n",
       "       [722, 889],\n",
       "       [723, 890],\n",
       "       [730, 890],\n",
       "       [731, 891],\n",
       "       [737, 891],\n",
       "       [738, 892],\n",
       "       [744, 892],\n",
       "       [745, 893],\n",
       "       [752, 893],\n",
       "       [753, 894],\n",
       "       [760, 894],\n",
       "       [761, 895],\n",
       "       [764, 895],\n",
       "       [765, 896],\n",
       "       [767, 896],\n",
       "       [768, 897],\n",
       "       [771, 897],\n",
       "       [772, 898],\n",
       "       [793, 898],\n",
       "       [794, 899],\n",
       "       [794, 902],\n",
       "       [802, 902],\n",
       "       [802, 899],\n",
       "       [803, 898],\n",
       "       [809, 898],\n",
       "       [810, 897],\n",
       "       [811, 897],\n",
       "       [813, 895],\n",
       "       [813, 894],\n",
       "       [815, 892],\n",
       "       [818, 892],\n",
       "       [818, 885],\n",
       "       [815, 885],\n",
       "       [814, 884],\n",
       "       [811, 884],\n",
       "       [810, 883],\n",
       "       [800, 883],\n",
       "       [799, 882],\n",
       "       [786, 882],\n",
       "       [785, 881],\n",
       "       [780, 881],\n",
       "       [779, 880],\n",
       "       [776, 880],\n",
       "       [775, 879],\n",
       "       [773, 879],\n",
       "       [772, 878],\n",
       "       [772, 875]], dtype=int32)"
      ]
     },
     "execution_count": 110,
     "metadata": {},
     "output_type": "execute_result"
    }
   ],
   "source": [
    "points"
   ]
  },
  {
   "cell_type": "code",
   "execution_count": 62,
   "metadata": {},
   "outputs": [
    {
     "name": "stdout",
     "output_type": "stream",
     "text": [
      "1\n",
      "(59, 2)\n"
     ]
    }
   ],
   "source": [
    "masks = results[0].masks\n",
    "xy_coords = masks.xy\n",
    "print(len(xy_coords))  # Number of masks\n",
    "print(xy_coords[0].shape)  # Shape of first mask's coordinates"
   ]
  },
  {
   "cell_type": "code",
   "execution_count": null,
   "metadata": {},
   "outputs": [],
   "source": [
    "results[0].masks"
   ]
  },
  {
   "cell_type": "code",
   "execution_count": null,
   "metadata": {},
   "outputs": [],
   "source": []
  },
  {
   "cell_type": "code",
   "execution_count": null,
   "metadata": {},
   "outputs": [],
   "source": []
  },
  {
   "cell_type": "code",
   "execution_count": 129,
   "metadata": {},
   "outputs": [
    {
     "name": "stdout",
     "output_type": "stream",
     "text": [
      "(17, 2)\n",
      "(17, 1, 2)\n"
     ]
    }
   ],
   "source": [
    "print(points.shape)\n",
    "print(points.reshape((-1,1,2)).shape)\n"
   ]
  },
  {
   "cell_type": "code",
   "execution_count": 118,
   "metadata": {},
   "outputs": [
    {
     "data": {
      "text/plain": [
       "PIL.JpegImagePlugin.JpegImageFile"
      ]
     },
     "execution_count": 118,
     "metadata": {},
     "output_type": "execute_result"
    }
   ],
   "source": [
    "type(image)"
   ]
  },
  {
   "cell_type": "code",
   "execution_count": 94,
   "metadata": {},
   "outputs": [
    {
     "data": {
      "text/plain": [
       "640"
      ]
     },
     "execution_count": 94,
     "metadata": {},
     "output_type": "execute_result"
    }
   ],
   "source": [
    "results[0].orig_shape[0]"
   ]
  },
  {
   "cell_type": "code",
   "execution_count": 85,
   "metadata": {},
   "outputs": [
    {
     "data": {
      "text/plain": [
       "['2', '0', '1']"
      ]
     },
     "execution_count": 85,
     "metadata": {},
     "output_type": "execute_result"
    }
   ],
   "source": [
    "cls_dict = results[0].names\n",
    "\n",
    "[cls_dict[result.boxes.cls.item()] for result in results[0]]"
   ]
  },
  {
   "cell_type": "code",
   "execution_count": 69,
   "metadata": {},
   "outputs": [
    {
     "data": {
      "text/plain": [
       "3"
      ]
     },
     "execution_count": 69,
     "metadata": {},
     "output_type": "execute_result"
    }
   ],
   "source": [
    "len(results[0])"
   ]
  },
  {
   "cell_type": "code",
   "execution_count": 82,
   "metadata": {},
   "outputs": [
    {
     "data": {
      "text/plain": [
       "2.0"
      ]
     },
     "execution_count": 82,
     "metadata": {},
     "output_type": "execute_result"
    }
   ],
   "source": [
    "results[0][0].boxes.cls.item()"
   ]
  },
  {
   "cell_type": "code",
   "execution_count": null,
   "metadata": {},
   "outputs": [],
   "source": []
  },
  {
   "cell_type": "code",
   "execution_count": null,
   "metadata": {},
   "outputs": [],
   "source": []
  },
  {
   "cell_type": "code",
   "execution_count": null,
   "metadata": {},
   "outputs": [
    {
     "ename": "AttributeError",
     "evalue": "'Results' object has no attribute 'xyn'. See valid attributes below.\n\n    A class for storing and manipulating inference results.\n\n    This class encapsulates the functionality for handling detection, segmentation, pose estimation,\n    and classification results from YOLO models.\n\n    Attributes:\n        orig_img (numpy.ndarray): Original image as a numpy array.\n        orig_shape (Tuple[int, int]): Original image shape in (height, width) format.\n        boxes (Boxes | None): Object containing detection bounding boxes.\n        masks (Masks | None): Object containing detection masks.\n        probs (Probs | None): Object containing class probabilities for classification tasks.\n        keypoints (Keypoints | None): Object containing detected keypoints for each object.\n        obb (OBB | None): Object containing oriented bounding boxes.\n        speed (Dict[str, float | None]): Dictionary of preprocess, inference, and postprocess speeds.\n        names (Dict[int, str]): Dictionary mapping class IDs to class names.\n        path (str): Path to the image file.\n        _keys (Tuple[str, ...]): Tuple of attribute names for internal use.\n\n    Methods:\n        update: Updates object attributes with new detection results.\n        cpu: Returns a copy of the Results object with all tensors on CPU memory.\n        numpy: Returns a copy of the Results object with all tensors as numpy arrays.\n        cuda: Returns a copy of the Results object with all tensors on GPU memory.\n        to: Returns a copy of the Results object with tensors on a specified device and dtype.\n        new: Returns a new Results object with the same image, path, and names.\n        plot: Plots detection results on an input image, returning an annotated image.\n        show: Shows annotated results on screen.\n        save: Saves annotated results to file.\n        verbose: Returns a log string for each task, detailing detections and classifications.\n        save_txt: Saves detection results to a text file.\n        save_crop: Saves cropped detection images.\n        tojson: Converts detection results to JSON format.\n\n    Examples:\n        >>> results = model(\"path/to/image.jpg\")\n        >>> for result in results:\n        ...     print(result.boxes)  # Print detection boxes\n        ...     result.show()  # Display the annotated image\n        ...     result.save(filename=\"result.jpg\")  # Save annotated image\n    ",
     "output_type": "error",
     "traceback": [
      "\u001b[1;31m---------------------------------------------------------------------------\u001b[0m",
      "\u001b[1;31mAttributeError\u001b[0m                            Traceback (most recent call last)",
      "Cell \u001b[1;32mIn[58], line 1\u001b[0m\n\u001b[1;32m----> 1\u001b[0m \u001b[43mresults\u001b[49m\u001b[43m[\u001b[49m\u001b[38;5;241;43m0\u001b[39;49m\u001b[43m]\u001b[49m\u001b[38;5;241;43m.\u001b[39;49m\u001b[43mxyn\u001b[49m\n",
      "File \u001b[1;32mc:\\Users\\ASUS\\anaconda3\\envs\\bloodScan\\Lib\\site-packages\\ultralytics\\utils\\__init__.py:221\u001b[0m, in \u001b[0;36mSimpleClass.__getattr__\u001b[1;34m(self, attr)\u001b[0m\n\u001b[0;32m    219\u001b[0m \u001b[38;5;250m\u001b[39m\u001b[38;5;124;03m\"\"\"Custom attribute access error message with helpful information.\"\"\"\u001b[39;00m\n\u001b[0;32m    220\u001b[0m name \u001b[38;5;241m=\u001b[39m \u001b[38;5;28mself\u001b[39m\u001b[38;5;241m.\u001b[39m\u001b[38;5;18m__class__\u001b[39m\u001b[38;5;241m.\u001b[39m\u001b[38;5;18m__name__\u001b[39m\n\u001b[1;32m--> 221\u001b[0m \u001b[38;5;28;01mraise\u001b[39;00m \u001b[38;5;167;01mAttributeError\u001b[39;00m(\u001b[38;5;124mf\u001b[39m\u001b[38;5;124m\"\u001b[39m\u001b[38;5;124m'\u001b[39m\u001b[38;5;132;01m{\u001b[39;00mname\u001b[38;5;132;01m}\u001b[39;00m\u001b[38;5;124m'\u001b[39m\u001b[38;5;124m object has no attribute \u001b[39m\u001b[38;5;124m'\u001b[39m\u001b[38;5;132;01m{\u001b[39;00mattr\u001b[38;5;132;01m}\u001b[39;00m\u001b[38;5;124m'\u001b[39m\u001b[38;5;124m. See valid attributes below.\u001b[39m\u001b[38;5;130;01m\\n\u001b[39;00m\u001b[38;5;132;01m{\u001b[39;00m\u001b[38;5;28mself\u001b[39m\u001b[38;5;241m.\u001b[39m\u001b[38;5;18m__doc__\u001b[39m\u001b[38;5;132;01m}\u001b[39;00m\u001b[38;5;124m\"\u001b[39m)\n",
      "\u001b[1;31mAttributeError\u001b[0m: 'Results' object has no attribute 'xyn'. See valid attributes below.\n\n    A class for storing and manipulating inference results.\n\n    This class encapsulates the functionality for handling detection, segmentation, pose estimation,\n    and classification results from YOLO models.\n\n    Attributes:\n        orig_img (numpy.ndarray): Original image as a numpy array.\n        orig_shape (Tuple[int, int]): Original image shape in (height, width) format.\n        boxes (Boxes | None): Object containing detection bounding boxes.\n        masks (Masks | None): Object containing detection masks.\n        probs (Probs | None): Object containing class probabilities for classification tasks.\n        keypoints (Keypoints | None): Object containing detected keypoints for each object.\n        obb (OBB | None): Object containing oriented bounding boxes.\n        speed (Dict[str, float | None]): Dictionary of preprocess, inference, and postprocess speeds.\n        names (Dict[int, str]): Dictionary mapping class IDs to class names.\n        path (str): Path to the image file.\n        _keys (Tuple[str, ...]): Tuple of attribute names for internal use.\n\n    Methods:\n        update: Updates object attributes with new detection results.\n        cpu: Returns a copy of the Results object with all tensors on CPU memory.\n        numpy: Returns a copy of the Results object with all tensors as numpy arrays.\n        cuda: Returns a copy of the Results object with all tensors on GPU memory.\n        to: Returns a copy of the Results object with tensors on a specified device and dtype.\n        new: Returns a new Results object with the same image, path, and names.\n        plot: Plots detection results on an input image, returning an annotated image.\n        show: Shows annotated results on screen.\n        save: Saves annotated results to file.\n        verbose: Returns a log string for each task, detailing detections and classifications.\n        save_txt: Saves detection results to a text file.\n        save_crop: Saves cropped detection images.\n        tojson: Converts detection results to JSON format.\n\n    Examples:\n        >>> results = model(\"path/to/image.jpg\")\n        >>> for result in results:\n        ...     print(result.boxes)  # Print detection boxes\n        ...     result.show()  # Display the annotated image\n        ...     result.save(filename=\"result.jpg\")  # Save annotated image\n    "
     ]
    }
   ],
   "source": [
    "results[0].xyn.top1"
   ]
  },
  {
   "cell_type": "code",
   "execution_count": 42,
   "metadata": {},
   "outputs": [
    {
     "data": {
      "text/plain": [
       "(16, 2)"
      ]
     },
     "execution_count": 42,
     "metadata": {},
     "output_type": "execute_result"
    }
   ],
   "source": [
    "np.shape(results[0].masks.xyn[2])"
   ]
  },
  {
   "cell_type": "code",
   "execution_count": 27,
   "metadata": {},
   "outputs": [
    {
     "data": {
      "text/plain": [
       "(640, 640, 3)"
      ]
     },
     "execution_count": 27,
     "metadata": {},
     "output_type": "execute_result"
    }
   ],
   "source": [
    "np.shape(results[0].orig_img)"
   ]
  },
  {
   "cell_type": "code",
   "execution_count": 35,
   "metadata": {},
   "outputs": [
    {
     "data": {
      "text/plain": [
       "array([[    0.38438,     0.59688],\n",
       "       [    0.38438,     0.60625],\n",
       "       [    0.39375,     0.60625],\n",
       "       [    0.39531,     0.60781],\n",
       "       [    0.40156,     0.60781],\n",
       "       [    0.40312,     0.60938],\n",
       "       [    0.40312,     0.61406],\n",
       "       [    0.52188,     0.61406],\n",
       "       [    0.52188,     0.60938],\n",
       "       [    0.52344,     0.60781],\n",
       "       [    0.52969,     0.60781],\n",
       "       [    0.53125,     0.60625],\n",
       "       [    0.54219,     0.60625],\n",
       "       [    0.54375,     0.60469],\n",
       "       [    0.55156,     0.60469],\n",
       "       [    0.55156,     0.59688]])"
      ]
     },
     "execution_count": 35,
     "metadata": {},
     "output_type": "execute_result"
    }
   ],
   "source": [
    "(results[0].masks.xy[2]/640).astype(np.float64)"
   ]
  },
  {
   "cell_type": "code",
   "execution_count": 25,
   "metadata": {},
   "outputs": [
    {
     "data": {
      "image/png": "[encoded data removed]",
      "text/plain": [
       "<Figure size 600x600 with 1 Axes>"
      ]
     },
     "metadata": {},
     "output_type": "display_data"
    }
   ],
   "source": [
    "x = results[0].masks.xy[0][:, 0]\n",
    "y = results[0].masks.xy[0][:, 1]\n",
    "\n",
    "# 创建散点图\n",
    "plt.figure(figsize=(6, 6))  # 设置图像大小\n",
    "plt.scatter(x, y, color='blue', label='Points')  # 绘制散点\n",
    "plt.plot(x, y, linestyle='--', color='gray', alpha=0.5, label='Connections')  # 连接点\n",
    "\n",
    "# 添加点的标注\n",
    "for i, (px, py) in enumerate(zip(x, y)):\n",
    "    plt.text(px, py, f'{i}', fontsize=9, ha='right')\n",
    "\n",
    "# 设置图例和标题\n",
    "plt.legend()\n",
    "plt.title(\"16 Points Visualization\")\n",
    "plt.xlabel(\"X Coordinate\")\n",
    "plt.ylabel(\"Y Coordinate\")\n",
    "plt.grid(True)\n",
    "plt.axis('equal')  # 保证 x 和 y 坐标的比例一致\n",
    "plt.show()"
   ]
  },
  {
   "cell_type": "code",
   "execution_count": 19,
   "metadata": {},
   "outputs": [
    {
     "data": {
      "text/plain": [
       "array([[        238,         386],\n",
       "       [        238,         535],\n",
       "       [        241,         535],\n",
       "       [        243,         537],\n",
       "       [        243,         538],\n",
       "       [        244,         539],\n",
       "       [        244,         540],\n",
       "       [        246,         542],\n",
       "       [        246,         543],\n",
       "       [        247,         544],\n",
       "       [        247,         545],\n",
       "       [        250,         548],\n",
       "       [        250,         549],\n",
       "       [        251,         550],\n",
       "       [        252,         550],\n",
       "       [        255,         553],\n",
       "       [        256,         553],\n",
       "       [        259,         556],\n",
       "       [        260,         556],\n",
       "       [        262,         558],\n",
       "       [        263,         558],\n",
       "       [        265,         560],\n",
       "       [        266,         560],\n",
       "       [        267,         561],\n",
       "       [        268,         561],\n",
       "       [        269,         562],\n",
       "       [        270,         562],\n",
       "       [        271,         563],\n",
       "       [        272,         563],\n",
       "       [        273,         564],\n",
       "       [        275,         564],\n",
       "       [        276,         565],\n",
       "       [        278,         565],\n",
       "       [        279,         566],\n",
       "       [        279,         569],\n",
       "       [        311,         569],\n",
       "       [        311,         566],\n",
       "       [        312,         565],\n",
       "       [        314,         565],\n",
       "       [        315,         564],\n",
       "       [        318,         564],\n",
       "       [        319,         563],\n",
       "       [        322,         563],\n",
       "       [        323,         562],\n",
       "       [        324,         562],\n",
       "       [        325,         561],\n",
       "       [        326,         561],\n",
       "       [        327,         560],\n",
       "       [        328,         560],\n",
       "       [        329,         559],\n",
       "       [        330,         559],\n",
       "       [        332,         557],\n",
       "       [        333,         557],\n",
       "       [        336,         554],\n",
       "       [        337,         554],\n",
       "       [        338,         553],\n",
       "       [        338,         552],\n",
       "       [        340,         550],\n",
       "       [        341,         550],\n",
       "       [        341,         549],\n",
       "       [        345,         545],\n",
       "       [        345,         544],\n",
       "       [        346,         543],\n",
       "       [        346,         542],\n",
       "       [        347,         541],\n",
       "       [        347,         540],\n",
       "       [        349,         538],\n",
       "       [        349,         536],\n",
       "       [        350,         535],\n",
       "       [        350,         533],\n",
       "       [        351,         532],\n",
       "       [        351,         531],\n",
       "       [        352,         530],\n",
       "       [        352,         527],\n",
       "       [        353,         526],\n",
       "       [        353,         521],\n",
       "       [        354,         520],\n",
       "       [        357,         520],\n",
       "       [        357,         514],\n",
       "       [        354,         514],\n",
       "       [        353,         513],\n",
       "       [        353,         397],\n",
       "       [        352,         396],\n",
       "       [        352,         391],\n",
       "       [        351,         390],\n",
       "       [        351,         386],\n",
       "       [        335,         386],\n",
       "       [        335,         389],\n",
       "       [        334,         390],\n",
       "       [        330,         390],\n",
       "       [        329,         391],\n",
       "       [        263,         391],\n",
       "       [        262,         390],\n",
       "       [        258,         390],\n",
       "       [        257,         389],\n",
       "       [        257,         386]], dtype=float32)"
      ]
     },
     "execution_count": 19,
     "metadata": {},
     "output_type": "execute_result"
    }
   ],
   "source": [
    "results[0].masks.xy[0]"
   ]
  },
  {
   "cell_type": "code",
   "execution_count": null,
   "metadata": {},
   "outputs": [],
   "source": []
  },
  {
   "cell_type": "code",
   "execution_count": 129,
   "metadata": {},
   "outputs": [
    {
     "name": "stdout",
     "output_type": "stream",
     "text": [
      "torch.Size([3, 1504, 1504])\n"
     ]
    },
    {
     "data": {
      "image/png": "[encoded data removed]",
      "text/plain": [
       "<Figure size 640x480 with 1 Axes>"
      ]
     },
     "metadata": {},
     "output_type": "display_data"
    }
   ],
   "source": [
    "print(np.shape(results[0].masks.data))\n",
    "x = results[0].masks.data.permute(1, 2, 0).cpu().numpy()\n",
    "plt.imshow(x)\n",
    "plt.axis('off')  # 不显示坐标轴\n",
    "plt.show()"
   ]
  },
  {
   "cell_type": "code",
   "execution_count": 134,
   "metadata": {},
   "outputs": [
    {
     "data": {
      "text/plain": [
       "ultralytics.engine.results.Boxes object with attributes:\n",
       "\n",
       "cls: tensor([1., 0., 2.], device='cuda:0')\n",
       "conf: tensor([0.6889, 0.5815, 0.3817], device='cuda:0')\n",
       "data: tensor([[6.8343e+02, 9.5183e+02, 8.3931e+02, 9.6508e+02, 6.8891e-01, 1.0000e+00],\n",
       "        [5.8929e+02, 5.7447e+02, 8.3176e+02, 9.6008e+02, 5.8149e-01, 0.0000e+00],\n",
       "        [5.8846e+02, 5.7792e+02, 8.3128e+02, 9.5981e+02, 3.8166e-01, 2.0000e+00]], device='cuda:0')\n",
       "id: None\n",
       "is_track: False\n",
       "orig_shape: (1500, 1500)\n",
       "shape: torch.Size([3, 6])\n",
       "xywh: tensor([[761.3657, 958.4579, 155.8798,  13.2505],\n",
       "        [710.5255, 767.2731, 242.4700, 385.6118],\n",
       "        [709.8682, 768.8659, 242.8220, 381.8932]], device='cuda:0')\n",
       "xywhn: tensor([[0.5076, 0.6390, 0.1039, 0.0088],\n",
       "        [0.4737, 0.5115, 0.1616, 0.2571],\n",
       "        [0.4732, 0.5126, 0.1619, 0.2546]], device='cuda:0')\n",
       "xyxy: tensor([[683.4258, 951.8326, 839.3055, 965.0831],\n",
       "        [589.2905, 574.4672, 831.7604, 960.0790],\n",
       "        [588.4572, 577.9193, 831.2792, 959.8125]], device='cuda:0')\n",
       "xyxyn: tensor([[0.4556, 0.6346, 0.5595, 0.6434],\n",
       "        [0.3929, 0.3830, 0.5545, 0.6401],\n",
       "        [0.3923, 0.3853, 0.5542, 0.6399]], device='cuda:0')"
      ]
     },
     "execution_count": 134,
     "metadata": {},
     "output_type": "execute_result"
    }
   ],
   "source": [
    "results[0].boxes"
   ]
  },
  {
   "cell_type": "code",
   "execution_count": null,
   "metadata": {},
   "outputs": [],
   "source": []
  }
 ],
 "metadata": {
  "kernelspec": {
   "display_name": "bloodScan",
   "language": "python",
   "name": "python3"
  },
  "language_info": {
   "codemirror_mode": {
    "name": "ipython",
    "version": 3
   },
   "file_extension": ".py",
   "mimetype": "text/x-python",
   "name": "python",
   "nbconvert_exporter": "python",
   "pygments_lexer": "ipython3",
   "version": "3.12.7"
  }
 },
 "nbformat": 4,
 "nbformat_minor": 2
}
